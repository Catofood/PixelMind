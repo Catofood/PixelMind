{
  "nbformat": 4,
  "nbformat_minor": 0,
  "metadata": {
    "colab": {
      "provenance": [],
      "include_colab_link": true
    },
    "kernelspec": {
      "name": "python3",
      "display_name": "Python 3"
    },
    "language_info": {
      "name": "python"
    }
  },
  "cells": [
    {
      "cell_type": "markdown",
      "metadata": {
        "id": "view-in-github",
        "colab_type": "text"
      },
      "source": [
        "<a href=\"https://colab.research.google.com/github/Catofood/PixelMind/blob/Linear-and-NN-structure/Linear_layer.ipynb\" target=\"_parent\"><img src=\"https://colab.research.google.com/assets/colab-badge.svg\" alt=\"Open In Colab\"/></a>"
      ]
    },
    {
      "cell_type": "code",
      "execution_count": 1,
      "metadata": {
        "id": "w4NfcW8Ih1La"
      },
      "outputs": [],
      "source": [
        "import numpy as np\n",
        "import math\n",
        "\n",
        "# ---------- Функции активации ----------\n",
        "def ReLU(x):\n",
        "    return np.maximum(0, x)\n",
        "\n",
        "def sigmoid(x):\n",
        "    return 1 / (1 + np.exp(-x))\n",
        "\n",
        "def softmax(x):\n",
        "    exps = np.exp(x - np.max(x, axis=1, keepdims=True))\n",
        "    return exps / np.sum(exps, axis=1, keepdims=True)\n",
        "\n",
        "# ---------- Функции потерь ----------\n",
        "def categorical_cross_entropy_loss(y_pred: np.array, y_true: np.array) -> float:\n",
        "    eps = 1e-9\n",
        "    return - np.mean(np.sum(y_true * np.log(y_pred + eps), axis=1))\n",
        "\n",
        "def mse_loss(y_pred: np.array, y_true: np.array) -> float:\n",
        "    return np.mean((y_pred - y_true)**2)\n"
      ]
    },
    {
      "cell_type": "code",
      "source": [
        "class Linear:\n",
        "\n",
        "  def __init__(self, input_size: int, output_size: int, activation_func=None):\n",
        "    self.n_in = input_size\n",
        "    self.n_out = output_size\n",
        "    self.weights = np.random.randn(self.n_in, self.n_out)\n",
        "    self.bias = np.random.randn(1, self.n_out)\n",
        "\n",
        "    if activation_func is None:\n",
        "      self.activation_func = lambda x: x\n",
        "    else:\n",
        "      self.activation_func = activation_func\n",
        "\n",
        "\n",
        "  def forward(self, x: np.array):\n",
        "     # прямой проход по слою (вычисление значений)\n",
        "     # y = w * x + b [здесь имеются в виду матричные операции]\n",
        "     # (x должен быть двумерным: [batch_size, input_size])\n",
        "     linear_res = np.dot(x, self.weights) + self.bias\n",
        "     return self.activation_func(linear_res)\n"
      ],
      "metadata": {
        "id": "hLcCfgFekNFH"
      },
      "execution_count": 3,
      "outputs": []
    },
    {
      "cell_type": "code",
      "source": [
        "class NeuralNetwork:\n",
        "    \"\"\"\n",
        "    Нейронная сеть, состоящая из нескольких слоёв (Linear).\n",
        "    \"\"\"\n",
        "    def __init__(self, layers=None, loss_func=None):\n",
        "        # Инициализируем список слоёв\n",
        "        if layers is None:\n",
        "            self.layers = []\n",
        "        else:\n",
        "            self.layers = layers\n",
        "\n",
        "        # Функцию потерь передаём напрямую\n",
        "        # Если ничего не указали, можно по умолчанию брать MSE\n",
        "        self.loss_func = loss_func if loss_func is not None else mse_loss\n",
        "\n",
        "    def add_layer(self, layer: Linear):\n",
        "        self.layers.append(layer)\n",
        "\n",
        "    def forward(self, x: np.array):\n",
        "        \"\"\"\n",
        "        Прямой проход через все слои.\n",
        "        \"\"\"\n",
        "        for layer in self.layers:\n",
        "            x = layer.forward(x)\n",
        "        return x\n",
        "\n",
        "    def compute_loss(self, x: np.array, y_true: np.array) -> float:\n",
        "        \"\"\"\n",
        "        Выполняет прямой проход + функцию потерь\n",
        "        \"\"\"\n",
        "        y_pred = self.forward(x)\n",
        "        return self.loss_func(y_pred, y_true)"
      ],
      "metadata": {
        "id": "DY_ruXEusZOw"
      },
      "execution_count": 4,
      "outputs": []
    },
    {
      "cell_type": "code",
      "source": [
        "if __name__ == \"__main__\":\n",
        "    # Допустим, у нас есть задача многоклассовой классификации на 3 класса\n",
        "\n",
        "    # 1) Создаем сеть:\n",
        "    #    Первый слой: вход 4 -> выход 5 (ReLU)\n",
        "    #    Второй слой: вход 5 -> выход 3 (softmax)\n",
        "    #    Важно: обычно softmax делаем либо как отдельный слой, либо внутри forward последнего слоя.\n",
        "\n",
        "    layers = [\n",
        "        Linear(4, 5, ReLU),         # [batch, 4] -> [batch, 5]\n",
        "        Linear(5, 3, softmax)      # [batch, 5] -> [batch, 3], затем softmax\n",
        "    ]\n",
        "\n",
        "    # Укажем, что функция потерь — это наша categorical_cross_entropy_loss\n",
        "    model = NeuralNetwork(layers=layers, loss_func=categorical_cross_entropy_loss)\n",
        "\n",
        "    # Пример входных данных (batch_size=2, 4 признака)\n",
        "    x = np.array([\n",
        "        [1, 0, 2, 3],\n",
        "        [2, -1, 0, 1]\n",
        "    ])\n",
        "    # Целевые метки (two samples) в one-hot. Предположим, 3 класса:\n",
        "    # Первый сэмпл (batch[0]) принадлежит классу 2 (индекс 1), второй — классу 3 (индекс 2).\n",
        "    # В питоне удобнее так: класс i -> y[i-1] = 1\n",
        "    # Пусть класс считается с 0, тогда:\n",
        "    #   y_true[0] = [0, 1, 0], y_true[1] = [0, 0, 1].\n",
        "    y_true = np.array([\n",
        "        [0, 1, 0],  # класс 1 (считая с 0)\n",
        "        [0, 0, 1],  # класс 2 (считая с 0)\n",
        "    ])\n",
        "\n",
        "    # Считаем функцию потерь\n",
        "    loss_value = model.compute_loss(x, y_true)\n",
        "    print(f\"Loss (categorical cross-entropy): {loss_value:.6f}\")\n",
        "\n",
        "    # Можно проверить, что модель возвращает (y_pred):\n",
        "    y_pred = model.forward(x)\n",
        "    print(\"y_pred (вероятности по классам):\\n\", y_pred)\n",
        "    # Сумма по строкам (batch) должна быть = 1\n",
        "    print(\"Сумма по каждой строке:\", y_pred.sum(axis=1))"
      ],
      "metadata": {
        "colab": {
          "base_uri": "https://localhost:8080/"
        },
        "id": "-NdFj2_tsDKl",
        "outputId": "8932f873-db0b-4c37-c91e-168b3c546320"
      },
      "execution_count": 6,
      "outputs": [
        {
          "output_type": "stream",
          "name": "stdout",
          "text": [
            "Loss (categorical cross-entropy): 3.724248\n",
            "y_pred (вероятности по классам):\n",
            " [[7.60753171e-01 9.65037661e-04 2.38281791e-01]\n",
            " [3.96443730e-01 1.43697231e-04 6.03412572e-01]]\n",
            "Сумма по каждой строке: [1. 1.]\n"
          ]
        }
      ]
    },
    {
      "cell_type": "code",
      "source": [],
      "metadata": {
        "id": "h4Zdnlm_eR7W"
      },
      "execution_count": null,
      "outputs": []
    }
  ]
}