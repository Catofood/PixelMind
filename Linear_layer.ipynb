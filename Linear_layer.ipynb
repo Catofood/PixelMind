{
  "nbformat": 4,
  "nbformat_minor": 0,
  "metadata": {
    "colab": {
      "provenance": [],
      "include_colab_link": true
    },
    "kernelspec": {
      "name": "python3",
      "display_name": "Python 3"
    },
    "language_info": {
      "name": "python"
    }
  },
  "cells": [
    {
      "cell_type": "markdown",
      "metadata": {
        "id": "view-in-github",
        "colab_type": "text"
      },
      "source": [
        "<a href=\"https://colab.research.google.com/github/Catofood/PixelMind/blob/main/Linear_layer.ipynb\" target=\"_parent\"><img src=\"https://colab.research.google.com/assets/colab-badge.svg\" alt=\"Open In Colab\"/></a>"
      ]
    },
    {
      "cell_type": "code",
      "execution_count": 11,
      "metadata": {
        "id": "w4NfcW8Ih1La"
      },
      "outputs": [],
      "source": [
        "import numpy as np\n",
        "import math\n",
        "\n",
        "# глобальные константы\n",
        "e = math.e\n",
        "\n",
        "# здесь написаны основные функции активации\n",
        "def sigmoid(x: np.array):\n",
        "  return 1/(1 + e ** (-x))\n",
        "\n",
        "\n",
        "def ReLU(x: np.array):\n",
        "  return np.maximum(x, 0)\n",
        "\n",
        "\n",
        "def tanh(x: np.array):\n",
        "  return (e ** x - e **(-x)) / (e ** x + e ** (-x))\n",
        "\n",
        "\n",
        "# функции потерь\n",
        "\n"
      ]
    },
    {
      "cell_type": "code",
      "source": [
        "class Linear:\n",
        "\n",
        "  def __init__(self, input_size: int, output_size: int, activation_func=None):\n",
        "    self.n_in = input_size\n",
        "    self.n_out = output_size\n",
        "    self.weights = np.random.randn(self.n_in, self.n_out)\n",
        "    self.bias = np.random.randn(1, self.n_out)\n",
        "\n",
        "    if activation_func is None:\n",
        "      self.activation_func = lambda x: x\n",
        "    else:\n",
        "      self.activation_func = activation_func\n",
        "\n",
        "\n",
        "  def forward(self, x: np.array):\n",
        "     # прямой проход по слою (вычисление значений)\n",
        "     # y = w * x + b [здесь имеются в виду матричные операции]\n",
        "     # (x должен быть двумерным: [batch_size, input_size])\n",
        "     linear_res = np.dot(x, self.weights) + self.bias\n",
        "     return self.activation_func(linear_res)\n"
      ],
      "metadata": {
        "id": "hLcCfgFekNFH"
      },
      "execution_count": 12,
      "outputs": []
    },
    {
      "cell_type": "code",
      "source": [
        "class NeuralNetwork:\n",
        "    \"\"\"\n",
        "    Класс нейронной сети, состоящей из нескольких последовательных слоёв.\n",
        "    \"\"\"\n",
        "    def __init__(self, layers=None):\n",
        "        \"\"\"\n",
        "        :param layers: список объектов класса Linear (или пусто)\n",
        "        \"\"\"\n",
        "        if layers is None:\n",
        "            self.layers = []\n",
        "        else:\n",
        "            self.layers = layers\n",
        "\n",
        "\n",
        "    def add_layer(self, layer: Linear):\n",
        "        \"\"\"\n",
        "        Добавить слой в модель динамически.\n",
        "        :param layer: объект класса Linear\n",
        "        \"\"\"\n",
        "        self.layers.append(layer)\n",
        "\n",
        "\n",
        "    def forward(self, x: np.array):\n",
        "        \"\"\"\n",
        "        Прямой проход через всю сеть.\n",
        "        :param x: входные данные (обычно [batch_size, n_features])\n",
        "        :return: выходной тензор после последнего слоя\n",
        "        \"\"\"\n",
        "        for layer in self.layers:\n",
        "            x = layer.forward(x)\n",
        "        return x\n"
      ],
      "metadata": {
        "id": "DY_ruXEusZOw"
      },
      "execution_count": 13,
      "outputs": []
    },
    {
      "cell_type": "code",
      "source": [
        "layers = [\n",
        "        Linear(5, 2, sigmoid),\n",
        "        Linear(2, 1)\n",
        "    ]\n",
        "model = NeuralNetwork(layers=layers)\n",
        "\n",
        "# Пример входных данных (batch_size=1, размерность входа=5)\n",
        "x = np.array([[1, 2, 3, -5, -5]])\n",
        "output = model.forward(x)\n",
        "print(\"Результат прямого прохода\", output)"
      ],
      "metadata": {
        "colab": {
          "base_uri": "https://localhost:8080/"
        },
        "id": "-NdFj2_tsDKl",
        "outputId": "d2aa0912-6512-41ec-a96f-4d2019e4626e"
      },
      "execution_count": 14,
      "outputs": [
        {
          "output_type": "stream",
          "name": "stdout",
          "text": [
            "Результат прямого прохода [[1.71528089]]\n"
          ]
        }
      ]
    },
    {
      "cell_type": "code",
      "source": [],
      "metadata": {
        "id": "h4Zdnlm_eR7W"
      },
      "execution_count": null,
      "outputs": []
    }
  ]
}